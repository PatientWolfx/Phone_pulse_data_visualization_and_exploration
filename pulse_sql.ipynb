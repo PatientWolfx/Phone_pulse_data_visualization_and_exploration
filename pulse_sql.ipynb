{
 "cells": [
  {
   "cell_type": "code",
   "execution_count": 11,
   "id": "ec2cdafc",
   "metadata": {},
   "outputs": [],
   "source": [
    "import mysql.connector\n",
    "import pandas as pd\n",
    "import sqlalchemy\n",
    "import pymysql\n",
    "from sqlalchemy import text\n",
    "\n",
    "user = 'root'\n",
    "password = 'Abu#%407899#'\n",
    "host = 'localhost'\n",
    "port = 3306\n",
    "database = 'phonepe'\n",
    "\n",
    "connection = sqlalchemy.create_engine('mysql+pymysql://{0}:{1}@{2}:{3}/{4}'.format(\n",
    "    user, password, host, port, database\n",
    "))"
   ]
  },
  {
   "cell_type": "code",
   "execution_count": 12,
   "id": "6f13d3e9",
   "metadata": {},
   "outputs": [
    {
     "data": {
      "text/plain": [
       "3594"
      ]
     },
     "execution_count": 12,
     "metadata": {},
     "output_type": "execute_result"
    }
   ],
   "source": [
    "sql = text('CREATE TABLE agg_transaction_table (MyIndex INT NOT NULL AUTO_INCREMENT,State INT,Year INT,Quater INT,Payment_Mode VARCHAR(50),Total_Transactions_count BIGINT,Total_Amount BIGINT,PRIMARY KEY (MyIndex))')\n",
    "connection.execute(sql)\n",
    "df = pd.read_csv(\"Data\\\\aggregated_transaction.csv\")\n",
    "df.to_sql('agg_transaction_table',con=connection, if_exists= \"replace\",index=False, chunksize=1000)"
   ]
  },
  {
   "cell_type": "code",
   "execution_count": 13,
   "id": "8de22d58",
   "metadata": {},
   "outputs": [
    {
     "data": {
      "text/plain": [
       "6732"
      ]
     },
     "execution_count": 13,
     "metadata": {},
     "output_type": "execute_result"
    }
   ],
   "source": [
    "sql2 = text('CREATE TABLE agg_user_table (MyIndex INT NOT NULL AUTO_INCREMENT,State INT,Year INT,Quater INT,Brand VARCHAR(50),Brand_count BIGINT,Brand_percentage BIGINT,PRIMARY KEY (MyIndex))')\n",
    "connection.execute(sql2)\n",
    "df = pd.read_csv('Data\\\\aggregated_user.csv')\n",
    "df.to_sql('agg_user_table',con=connection, if_exists= \"replace\",index=False, chunksize=1000)"
   ]
  },
  {
   "cell_type": "code",
   "execution_count": 14,
   "id": "f84aee4c",
   "metadata": {},
   "outputs": [
    {
     "data": {
      "text/plain": [
       "14636"
      ]
     },
     "execution_count": 14,
     "metadata": {},
     "output_type": "execute_result"
    }
   ],
   "source": [
    "sql3 = text('CREATE TABLE map_transaction_table(MyIndex INT NOT NULL AUTO_INCREMENT, State INT, Year INT, Quater INT, District VARCHAR(50), Transaction_count BIGINT, Transaction_amount BIGINT, PRIMARY KEY (MyIndex))')\n",
    "connection.execute(sql3)\n",
    "df = pd.read_csv('Data\\\\Map_transaction.csv')\n",
    "df.to_sql('map_transaction_table', con = connection, if_exists = \"replace\", index=False, chunksize=1000)"
   ]
  },
  {
   "cell_type": "code",
   "execution_count": 15,
   "id": "430df342",
   "metadata": {},
   "outputs": [
    {
     "data": {
      "text/plain": [
       "14640"
      ]
     },
     "execution_count": 15,
     "metadata": {},
     "output_type": "execute_result"
    }
   ],
   "source": [
    "sql4 = text('CREATE TABLE map_user_table(MyIndex INT NOT NULL AUTO_INCREMENT, State INT, Year INT, Quater INT, District VARCHAR(50), Users BIGINT, PRIMARY KEY(MyIndex))')\n",
    "connection.execute(sql4)\n",
    "df = pd.read_csv('Data\\\\Map_users.csv')\n",
    "df.to_sql('map_user_table', con=connection, if_exists = 'replace', index = False, chunksize=1000)"
   ]
  },
  {
   "cell_type": "code",
   "execution_count": 16,
   "id": "df117f87",
   "metadata": {},
   "outputs": [
    {
     "data": {
      "text/plain": [
       "5920"
      ]
     },
     "execution_count": 16,
     "metadata": {},
     "output_type": "execute_result"
    }
   ],
   "source": [
    "sql5 = text('CREATE TABLE top_transaction_table(MyIndex INT NOT NULL AUTO_INCREMENT, State INT, Year INT, Quater INT, District VARCHAR(50), Transaction_count BIGINT, Transaction_amount BIGINT, PRIMARY KEY(MyIndex))')\n",
    "connection.execute(sql5)\n",
    "df = pd.read_csv('Data\\\\Top_transactions.csv')\n",
    "df.to_sql('top_transaction_table', con = connection, if_exists = 'replace', index = False, chunksize = 1000)"
   ]
  },
  {
   "cell_type": "code",
   "execution_count": 17,
   "id": "36c6db2e",
   "metadata": {},
   "outputs": [
    {
     "data": {
      "text/plain": [
       "5920"
      ]
     },
     "execution_count": 17,
     "metadata": {},
     "output_type": "execute_result"
    }
   ],
   "source": [
    "sql6 = text('CREATE TABLE top_user_table(MyIndex INT NOT NULL AUTO_INCREMENT, State INT, Year INT, Quater INT, District VARCHAR(50), Users BIGINT, PRIMARY KEY(MyIndex))')\n",
    "connection.execute(sql6)\n",
    "df = pd.read_csv('Data\\\\Top_users.csv')\n",
    "df.to_sql('top_user_table', con = connection, if_exists = 'replace', index = False, chunksize = 1000)"
   ]
  },
  {
   "cell_type": "code",
   "execution_count": 18,
   "id": "66ec5040",
   "metadata": {},
   "outputs": [
    {
     "data": {
      "text/plain": [
       "732"
      ]
     },
     "execution_count": 18,
     "metadata": {},
     "output_type": "execute_result"
    }
   ],
   "source": [
    "sql7 = text('CREATE TABLE district_geo_table(MyIndex INT NOT NULL AUTO_INCREMENT, State INT, District VARCHAR(50), Latitude DOUBLE, Longitude DOUBLE, PRIMARY KEY(MyIndex))')\n",
    "connection.execute(sql7)\n",
    "df = pd.read_csv('Data\\\\Districts_Longitude_Latitude.csv')\n",
    "df.to_sql('district_geo_table', con = connection, if_exists = 'replace', index = False, chunksize = 1000)"
   ]
  },
  {
   "cell_type": "code",
   "execution_count": 19,
   "id": "9646d58d",
   "metadata": {},
   "outputs": [
    {
     "data": {
      "text/plain": [
       "36"
      ]
     },
     "execution_count": 19,
     "metadata": {},
     "output_type": "execute_result"
    }
   ],
   "source": [
    "sql8 = text('CREATE TABLE state_geo_table(MyIndex INT NOT NULL AUTO_INCREMENT, State VARCHAR(50), Code VARCHAR(50), Latitude DOUBLE, Longitude DOUBLE, PRIMARY KEY(MyIndex))')\n",
    "connection.execute(sql8)\n",
    "df = pd.read_csv('Data\\\\States_Longitude_Latitude.csv')\n",
    "df.to_sql('state_geo_table', con = connection, if_exists = 'replace', index = False, chunksize = 1000)"
   ]
  }
 ],
 "metadata": {
  "kernelspec": {
   "display_name": "Python 3 (ipykernel)",
   "language": "python",
   "name": "python3"
  },
  "language_info": {
   "codemirror_mode": {
    "name": "ipython",
    "version": 3
   },
   "file_extension": ".py",
   "mimetype": "text/x-python",
   "name": "python",
   "nbconvert_exporter": "python",
   "pygments_lexer": "ipython3",
   "version": "3.9.13"
  }
 },
 "nbformat": 4,
 "nbformat_minor": 5
}
